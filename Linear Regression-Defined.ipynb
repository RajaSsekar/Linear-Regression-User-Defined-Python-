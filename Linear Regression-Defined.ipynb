{
 "cells": [
  {
   "cell_type": "markdown",
   "metadata": {
    "colab_type": "text",
    "id": "l_LulNCC8z96"
   },
   "source": [
    "# Linear Regression"
   ]
  },
  {
   "cell_type": "markdown",
   "metadata": {
    "colab_type": "text",
    "id": "xpXdowrE9DxW"
   },
   "source": [
    "## Libraries"
   ]
  },
  {
   "cell_type": "code",
   "execution_count": 1,
   "metadata": {
    "colab": {},
    "colab_type": "code",
    "id": "nhKd4hWx9GFt"
   },
   "outputs": [],
   "source": [
    "import numpy as np\n",
    "import matplotlib.pyplot as plt\n",
    "import pandas as pd\n",
    "import math"
   ]
  },
  {
   "cell_type": "markdown",
   "metadata": {
    "colab_type": "text",
    "id": "6JhpWJi59J1p"
   },
   "source": [
    "## Importing the dataset"
   ]
  },
  {
   "cell_type": "code",
   "execution_count": 2,
   "metadata": {
    "colab": {},
    "colab_type": "code",
    "id": "f8GfYDZ59O18"
   },
   "outputs": [],
   "source": [
    "data = pd.read_csv('BSE.csv')\n",
    "x=data['X']\n",
    "y=data['Y']"
   ]
  },
  {
   "cell_type": "markdown",
   "metadata": {
    "colab_type": "text",
    "id": "ZijQwFMQ9itx"
   },
   "source": [
    "## Linear Regression Model"
   ]
  },
  {
   "cell_type": "code",
   "execution_count": 3,
   "metadata": {
    "colab": {
     "base_uri": "https://localhost:8080/",
     "height": 34
    },
    "colab_type": "code",
    "executionInfo": {
     "elapsed": 882,
     "status": "ok",
     "timestamp": 1586352495803,
     "user": {
      "displayName": "Hadelin de Ponteves",
      "photoUrl": "https://lh3.googleusercontent.com/a-/AOh14GhEuXdT7eQweUmRPW8_laJuPggSK6hfvpl5a6WBaA=s64",
      "userId": "15047218817161520419"
     },
     "user_tz": -240
    },
    "id": "B4Aj_8YJ9l7J",
    "outputId": "15363111-2a76-4774-88ad-48db22159e9d"
   },
   "outputs": [],
   "source": [
    "from statistics import mean\n",
    "xmean=mean(x)\n",
    "ymean=mean(y)\n",
    "data['(X-Xmean)']=data['X']-xmean\n",
    "data['(Y-Ymean)']=data['Y']-ymean\n",
    "data['(X-Xmean)^2']=data['(X-Xmean)']**2\n",
    "data['(X-Xmean)*(Y-Ymean)']=data['(X-Xmean)']*data['(Y-Ymean)']\n",
    "sxy=sum(data['(X-Xmean)*(Y-Ymean)'])\n",
    "sxx=sum(data['(X-Xmean)^2'])\n",
    "n=len(data.index)\n",
    "slope=sxy/sxx\n",
    "intercept=ymean-(slope*xmean)\n",
    "equation=\"Y = \"+str(slope)+\" * x + \"+str(intercept)\n",
    "data['Pred_Y']=(slope*data['X'])+intercept\n",
    "data['(Y-Pred_Y)^2']=(data['Y']-data['Pred_Y'])**2\n",
    "syy=sum(data['(Y-Pred_Y)^2'])\n",
    "rmse=math.sqrt(syy/n)\n",
    "std_error=math.sqrt((syy/n)/sxx)"
   ]
  },
  {
   "cell_type": "code",
   "execution_count": 5,
   "metadata": {},
   "outputs": [
    {
     "data": {
      "text/html": [
       "<div>\n",
       "<style scoped>\n",
       "    .dataframe tbody tr th:only-of-type {\n",
       "        vertical-align: middle;\n",
       "    }\n",
       "\n",
       "    .dataframe tbody tr th {\n",
       "        vertical-align: top;\n",
       "    }\n",
       "\n",
       "    .dataframe thead th {\n",
       "        text-align: right;\n",
       "    }\n",
       "</style>\n",
       "<table border=\"1\" class=\"dataframe\">\n",
       "  <thead>\n",
       "    <tr style=\"text-align: right;\">\n",
       "      <th></th>\n",
       "      <th>Date</th>\n",
       "      <th>X</th>\n",
       "      <th>Y</th>\n",
       "      <th>(X-Xmean)</th>\n",
       "      <th>(Y-Ymean)</th>\n",
       "      <th>(X-Xmean)^2</th>\n",
       "      <th>(X-Xmean)*(Y-Ymean)</th>\n",
       "      <th>Pred_Y</th>\n",
       "      <th>(Y-Pred_Y)^2</th>\n",
       "    </tr>\n",
       "  </thead>\n",
       "  <tbody>\n",
       "    <tr>\n",
       "      <th>0</th>\n",
       "      <td>01-Feb-21</td>\n",
       "      <td>48600.61</td>\n",
       "      <td>49797.72</td>\n",
       "      <td>-2182.208</td>\n",
       "      <td>-1047.5595</td>\n",
       "      <td>4.762032e+06</td>\n",
       "      <td>2.285993e+06</td>\n",
       "      <td>49500.637940</td>\n",
       "      <td>8.825775e+04</td>\n",
       "    </tr>\n",
       "    <tr>\n",
       "      <th>1</th>\n",
       "      <td>02-Feb-21</td>\n",
       "      <td>49797.72</td>\n",
       "      <td>50255.75</td>\n",
       "      <td>-985.098</td>\n",
       "      <td>-589.5295</td>\n",
       "      <td>9.704181e+05</td>\n",
       "      <td>5.807443e+05</td>\n",
       "      <td>50238.277917</td>\n",
       "      <td>3.052737e+02</td>\n",
       "    </tr>\n",
       "    <tr>\n",
       "      <th>2</th>\n",
       "      <td>03-Feb-21</td>\n",
       "      <td>50255.75</td>\n",
       "      <td>50614.29</td>\n",
       "      <td>-527.068</td>\n",
       "      <td>-230.9895</td>\n",
       "      <td>2.778007e+05</td>\n",
       "      <td>1.217472e+05</td>\n",
       "      <td>50520.508654</td>\n",
       "      <td>8.794941e+03</td>\n",
       "    </tr>\n",
       "    <tr>\n",
       "      <th>3</th>\n",
       "      <td>04-Feb-21</td>\n",
       "      <td>50614.29</td>\n",
       "      <td>50731.63</td>\n",
       "      <td>-168.528</td>\n",
       "      <td>-113.6495</td>\n",
       "      <td>2.840169e+04</td>\n",
       "      <td>1.915312e+04</td>\n",
       "      <td>50741.435250</td>\n",
       "      <td>9.614293e+01</td>\n",
       "    </tr>\n",
       "    <tr>\n",
       "      <th>4</th>\n",
       "      <td>05-Feb-21</td>\n",
       "      <td>50731.63</td>\n",
       "      <td>51348.77</td>\n",
       "      <td>-51.188</td>\n",
       "      <td>503.4905</td>\n",
       "      <td>2.620211e+03</td>\n",
       "      <td>-2.577267e+04</td>\n",
       "      <td>50813.738276</td>\n",
       "      <td>2.862589e+05</td>\n",
       "    </tr>\n",
       "    <tr>\n",
       "      <th>5</th>\n",
       "      <td>08-Feb-21</td>\n",
       "      <td>51348.77</td>\n",
       "      <td>51329.08</td>\n",
       "      <td>565.952</td>\n",
       "      <td>483.8005</td>\n",
       "      <td>3.203017e+05</td>\n",
       "      <td>2.738079e+05</td>\n",
       "      <td>51194.010043</td>\n",
       "      <td>1.824389e+04</td>\n",
       "    </tr>\n",
       "    <tr>\n",
       "      <th>6</th>\n",
       "      <td>09-Feb-21</td>\n",
       "      <td>51329.08</td>\n",
       "      <td>51309.39</td>\n",
       "      <td>546.262</td>\n",
       "      <td>464.1105</td>\n",
       "      <td>2.984022e+05</td>\n",
       "      <td>2.535259e+05</td>\n",
       "      <td>51181.877381</td>\n",
       "      <td>1.625947e+04</td>\n",
       "    </tr>\n",
       "    <tr>\n",
       "      <th>7</th>\n",
       "      <td>10-Feb-21</td>\n",
       "      <td>51309.39</td>\n",
       "      <td>51531.52</td>\n",
       "      <td>526.572</td>\n",
       "      <td>686.2405</td>\n",
       "      <td>2.772781e+05</td>\n",
       "      <td>3.613550e+05</td>\n",
       "      <td>51169.744718</td>\n",
       "      <td>1.308814e+05</td>\n",
       "    </tr>\n",
       "    <tr>\n",
       "      <th>8</th>\n",
       "      <td>11-Feb-21</td>\n",
       "      <td>51531.52</td>\n",
       "      <td>51544.30</td>\n",
       "      <td>748.702</td>\n",
       "      <td>699.0205</td>\n",
       "      <td>5.605547e+05</td>\n",
       "      <td>5.233580e+05</td>\n",
       "      <td>51306.617661</td>\n",
       "      <td>5.649289e+04</td>\n",
       "    </tr>\n",
       "    <tr>\n",
       "      <th>9</th>\n",
       "      <td>12-Feb-21</td>\n",
       "      <td>51544.30</td>\n",
       "      <td>52154.13</td>\n",
       "      <td>761.482</td>\n",
       "      <td>1308.8505</td>\n",
       "      <td>5.798548e+05</td>\n",
       "      <td>9.966661e+05</td>\n",
       "      <td>51314.492492</td>\n",
       "      <td>7.049911e+05</td>\n",
       "    </tr>\n",
       "    <tr>\n",
       "      <th>10</th>\n",
       "      <td>15-Feb-21</td>\n",
       "      <td>52154.13</td>\n",
       "      <td>52104.17</td>\n",
       "      <td>1371.312</td>\n",
       "      <td>1258.8905</td>\n",
       "      <td>1.880497e+06</td>\n",
       "      <td>1.726332e+06</td>\n",
       "      <td>51690.259954</td>\n",
       "      <td>1.713215e+05</td>\n",
       "    </tr>\n",
       "    <tr>\n",
       "      <th>11</th>\n",
       "      <td>16-Feb-21</td>\n",
       "      <td>52104.17</td>\n",
       "      <td>51703.83</td>\n",
       "      <td>1321.352</td>\n",
       "      <td>858.5505</td>\n",
       "      <td>1.745971e+06</td>\n",
       "      <td>1.134447e+06</td>\n",
       "      <td>51659.475404</td>\n",
       "      <td>1.967330e+03</td>\n",
       "    </tr>\n",
       "    <tr>\n",
       "      <th>12</th>\n",
       "      <td>17-Feb-21</td>\n",
       "      <td>51703.83</td>\n",
       "      <td>51324.69</td>\n",
       "      <td>921.012</td>\n",
       "      <td>479.4105</td>\n",
       "      <td>8.482631e+05</td>\n",
       "      <td>4.415428e+05</td>\n",
       "      <td>51412.792318</td>\n",
       "      <td>7.762019e+03</td>\n",
       "    </tr>\n",
       "    <tr>\n",
       "      <th>13</th>\n",
       "      <td>18-Feb-21</td>\n",
       "      <td>51324.69</td>\n",
       "      <td>50889.76</td>\n",
       "      <td>541.872</td>\n",
       "      <td>44.4805</td>\n",
       "      <td>2.936253e+05</td>\n",
       "      <td>2.410274e+04</td>\n",
       "      <td>51179.172333</td>\n",
       "      <td>8.375950e+04</td>\n",
       "    </tr>\n",
       "    <tr>\n",
       "      <th>14</th>\n",
       "      <td>19-Feb-21</td>\n",
       "      <td>50889.76</td>\n",
       "      <td>49744.32</td>\n",
       "      <td>106.942</td>\n",
       "      <td>-1100.9595</td>\n",
       "      <td>1.143659e+04</td>\n",
       "      <td>-1.177388e+05</td>\n",
       "      <td>50911.175445</td>\n",
       "      <td>1.361552e+06</td>\n",
       "    </tr>\n",
       "    <tr>\n",
       "      <th>15</th>\n",
       "      <td>22-Feb-21</td>\n",
       "      <td>49744.32</td>\n",
       "      <td>49751.41</td>\n",
       "      <td>-1038.498</td>\n",
       "      <td>-1093.8695</td>\n",
       "      <td>1.078478e+06</td>\n",
       "      <td>1.135981e+06</td>\n",
       "      <td>50205.373693</td>\n",
       "      <td>2.060830e+05</td>\n",
       "    </tr>\n",
       "    <tr>\n",
       "      <th>16</th>\n",
       "      <td>23-Feb-21</td>\n",
       "      <td>49751.41</td>\n",
       "      <td>50781.69</td>\n",
       "      <td>-1031.408</td>\n",
       "      <td>-63.5895</td>\n",
       "      <td>1.063802e+06</td>\n",
       "      <td>6.558672e+04</td>\n",
       "      <td>50209.742437</td>\n",
       "      <td>3.271240e+05</td>\n",
       "    </tr>\n",
       "    <tr>\n",
       "      <th>17</th>\n",
       "      <td>24-Feb-21</td>\n",
       "      <td>50781.69</td>\n",
       "      <td>51039.31</td>\n",
       "      <td>-1.128</td>\n",
       "      <td>194.0305</td>\n",
       "      <td>1.272384e+00</td>\n",
       "      <td>-2.188664e+02</td>\n",
       "      <td>50844.584444</td>\n",
       "      <td>3.791804e+04</td>\n",
       "    </tr>\n",
       "    <tr>\n",
       "      <th>18</th>\n",
       "      <td>25-Feb-21</td>\n",
       "      <td>51039.31</td>\n",
       "      <td>49099.99</td>\n",
       "      <td>256.492</td>\n",
       "      <td>-1745.2895</td>\n",
       "      <td>6.578815e+04</td>\n",
       "      <td>-4.476528e+05</td>\n",
       "      <td>51003.325755</td>\n",
       "      <td>3.622687e+06</td>\n",
       "    </tr>\n",
       "    <tr>\n",
       "      <th>19</th>\n",
       "      <td>26-Feb-21</td>\n",
       "      <td>49099.99</td>\n",
       "      <td>49849.84</td>\n",
       "      <td>-1682.828</td>\n",
       "      <td>-995.4395</td>\n",
       "      <td>2.831910e+06</td>\n",
       "      <td>1.675153e+06</td>\n",
       "      <td>49808.347884</td>\n",
       "      <td>1.721596e+03</td>\n",
       "    </tr>\n",
       "  </tbody>\n",
       "</table>\n",
       "</div>"
      ],
      "text/plain": [
       "         Date         X         Y  (X-Xmean)  (Y-Ymean)   (X-Xmean)^2  \\\n",
       "0   01-Feb-21  48600.61  49797.72  -2182.208 -1047.5595  4.762032e+06   \n",
       "1   02-Feb-21  49797.72  50255.75   -985.098  -589.5295  9.704181e+05   \n",
       "2   03-Feb-21  50255.75  50614.29   -527.068  -230.9895  2.778007e+05   \n",
       "3   04-Feb-21  50614.29  50731.63   -168.528  -113.6495  2.840169e+04   \n",
       "4   05-Feb-21  50731.63  51348.77    -51.188   503.4905  2.620211e+03   \n",
       "5   08-Feb-21  51348.77  51329.08    565.952   483.8005  3.203017e+05   \n",
       "6   09-Feb-21  51329.08  51309.39    546.262   464.1105  2.984022e+05   \n",
       "7   10-Feb-21  51309.39  51531.52    526.572   686.2405  2.772781e+05   \n",
       "8   11-Feb-21  51531.52  51544.30    748.702   699.0205  5.605547e+05   \n",
       "9   12-Feb-21  51544.30  52154.13    761.482  1308.8505  5.798548e+05   \n",
       "10  15-Feb-21  52154.13  52104.17   1371.312  1258.8905  1.880497e+06   \n",
       "11  16-Feb-21  52104.17  51703.83   1321.352   858.5505  1.745971e+06   \n",
       "12  17-Feb-21  51703.83  51324.69    921.012   479.4105  8.482631e+05   \n",
       "13  18-Feb-21  51324.69  50889.76    541.872    44.4805  2.936253e+05   \n",
       "14  19-Feb-21  50889.76  49744.32    106.942 -1100.9595  1.143659e+04   \n",
       "15  22-Feb-21  49744.32  49751.41  -1038.498 -1093.8695  1.078478e+06   \n",
       "16  23-Feb-21  49751.41  50781.69  -1031.408   -63.5895  1.063802e+06   \n",
       "17  24-Feb-21  50781.69  51039.31     -1.128   194.0305  1.272384e+00   \n",
       "18  25-Feb-21  51039.31  49099.99    256.492 -1745.2895  6.578815e+04   \n",
       "19  26-Feb-21  49099.99  49849.84  -1682.828  -995.4395  2.831910e+06   \n",
       "\n",
       "    (X-Xmean)*(Y-Ymean)        Pred_Y  (Y-Pred_Y)^2  \n",
       "0          2.285993e+06  49500.637940  8.825775e+04  \n",
       "1          5.807443e+05  50238.277917  3.052737e+02  \n",
       "2          1.217472e+05  50520.508654  8.794941e+03  \n",
       "3          1.915312e+04  50741.435250  9.614293e+01  \n",
       "4         -2.577267e+04  50813.738276  2.862589e+05  \n",
       "5          2.738079e+05  51194.010043  1.824389e+04  \n",
       "6          2.535259e+05  51181.877381  1.625947e+04  \n",
       "7          3.613550e+05  51169.744718  1.308814e+05  \n",
       "8          5.233580e+05  51306.617661  5.649289e+04  \n",
       "9          9.966661e+05  51314.492492  7.049911e+05  \n",
       "10         1.726332e+06  51690.259954  1.713215e+05  \n",
       "11         1.134447e+06  51659.475404  1.967330e+03  \n",
       "12         4.415428e+05  51412.792318  7.762019e+03  \n",
       "13         2.410274e+04  51179.172333  8.375950e+04  \n",
       "14        -1.177388e+05  50911.175445  1.361552e+06  \n",
       "15         1.135981e+06  50205.373693  2.060830e+05  \n",
       "16         6.558672e+04  50209.742437  3.271240e+05  \n",
       "17        -2.188664e+02  50844.584444  3.791804e+04  \n",
       "18        -4.476528e+05  51003.325755  3.622687e+06  \n",
       "19         1.675153e+06  49808.347884  1.721596e+03  "
      ]
     },
     "execution_count": 5,
     "metadata": {},
     "output_type": "execute_result"
    }
   ],
   "source": [
    "data"
   ]
  },
  {
   "cell_type": "code",
   "execution_count": 6,
   "metadata": {},
   "outputs": [
    {
     "name": "stdout",
     "output_type": "stream",
     "text": [
      "Slope = 0.6161839567854123\n",
      "Intercept = 19553.72176804654\n",
      "Equation ->  Y = 0.6161839567854123 * x + 19553.72176804654\n",
      "RMSE = 597.1799350271477\n",
      "Standard Error = 0.14115939600676095\n"
     ]
    }
   ],
   "source": [
    "print(\"Slope = \"+str(slope))\n",
    "print(\"Intercept = \"+str(intercept))\n",
    "print(\"Equation ->  \"+equation)\n",
    "print(\"RMSE = \"+str(rmse))\n",
    "print(\"Standard Error = \"+str(std_error))"
   ]
  },
  {
   "cell_type": "markdown",
   "metadata": {
    "colab_type": "text",
    "id": "wa2T1Lq89o5H"
   },
   "source": [
    "# Predicting the results"
   ]
  },
  {
   "cell_type": "code",
   "execution_count": 7,
   "metadata": {
    "colab": {},
    "colab_type": "code",
    "id": "Rn_sTJ2o9smm"
   },
   "outputs": [
    {
     "name": "stdout",
     "output_type": "stream",
     "text": [
      "Predicted value for 49849.84 = 50270.39342436625\n"
     ]
    }
   ],
   "source": [
    "test=49849.84\n",
    "pred_output=(slope*test)+intercept\n",
    "print(\"Predicted value for \"+str(test)+\" = \"+str(pred_output))"
   ]
  },
  {
   "cell_type": "markdown",
   "metadata": {
    "colab_type": "text",
    "id": "-zSoMZ-P9v8t"
   },
   "source": [
    "## Visualising the Training set "
   ]
  },
  {
   "cell_type": "code",
   "execution_count": 8,
   "metadata": {
    "colab": {
     "base_uri": "https://localhost:8080/",
     "height": 295
    },
    "colab_type": "code",
    "executionInfo": {
     "elapsed": 763,
     "status": "ok",
     "timestamp": 1586352502760,
     "user": {
      "displayName": "Hadelin de Ponteves",
      "photoUrl": "https://lh3.googleusercontent.com/a-/AOh14GhEuXdT7eQweUmRPW8_laJuPggSK6hfvpl5a6WBaA=s64",
      "userId": "15047218817161520419"
     },
     "user_tz": -240
    },
    "id": "IAePn_u-93tI",
    "outputId": "b860fdce-5757-4104-b6e9-0f180e3fca05"
   },
   "outputs": [
    {
     "data": {
      "image/png": "[encoded data removed]",
      "text/plain": [
       "<Figure size 432x288 with 1 Axes>"
      ]
     },
     "metadata": {
      "needs_background": "light"
     },
     "output_type": "display_data"
    }
   ],
   "source": [
    "plt.scatter(x, y, color = 'red')\n",
    "yy = (slope*x)+intercept\n",
    "plt.plot(x, yy, color = 'blue')\n",
    "plt.title('BSE Closing Price')\n",
    "plt.xlabel('Price')\n",
    "plt.ylabel('Closing Price')\n",
    "plt.show()"
   ]
  },
  {
   "cell_type": "code",
   "execution_count": null,
   "metadata": {},
   "outputs": [],
   "source": []
  }
 ],
 "metadata": {
  "colab": {
   "authorship_tag": "ABX9TyP1VVwrQU8S68bmX5lftYWC",
   "name": "Simple Linear Regression",
   "provenance": [],
   "toc_visible": true
  },
  "kernelspec": {
   "display_name": "Python 3",
   "language": "python",
   "name": "python3"
  },
  "language_info": {
   "codemirror_mode": {
    "name": "ipython",
    "version": 3
   },
   "file_extension": ".py",
   "mimetype": "text/x-python",
   "name": "python",
   "nbconvert_exporter": "python",
   "pygments_lexer": "ipython3",
   "version": "3.7.3"
  }
 },
 "nbformat": 4,
 "nbformat_minor": 1
}
